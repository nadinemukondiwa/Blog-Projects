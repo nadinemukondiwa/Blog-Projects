{
 "cells": [
  {
   "cell_type": "markdown",
   "metadata": {},
   "source": [
    "# Data transformation\n",
    "\n",
    "* 23 April 2021\n",
    "    * Cleaned columns\n",
    "        * publisher: removed whitespace\n",
    "        * title: capitalized columns and removed whitespace\n",
    "        * author: removed whitespace\n",
    "        * contributor: removed 'by' and whitespace\n",
    "    * Created functions \n",
    "        * first_name: Author's first name\n",
    "        * last_name: Author's last name\n",
    "\n",
    "\n",
    "* 24 April\n",
    "    * Renamed the 'nyt_bestsellers.csv' file to 'nyt_hardcover_fiction.csv'\n",
    "    * Merged the 'nyt_hardcover_fiction.csv' and 'nyt_hardcover_nonfiction.csv' files\n",
    "    * Created a list of authors\n",
    "    * Cleaned ''James O Born' and be consistent\n",
    "    * Created subsets csv files of the data to load into MySQL database\n",
    "\n",
    "\n",
    "* 29 April 2021\n",
    "    * Created the the dataframe of the books, with 'publisher_id' and 'author_id'.\n",
    "    * Created a dataframe with the list entries\n",
    "    * Rename named 'published_date' to 'date_published'\n",
    "    \n",
    "    \n",
    "* 1 May 2021\n",
    "    * Decided to drop the 'age_group' column because it does not have any values.\n",
    "    * Fine tuned the order of all of the dataframes to ensure accurate csv files for database loading."
   ]
  },
  {
   "cell_type": "code",
   "execution_count": 1,
   "metadata": {},
   "outputs": [],
   "source": [
    "#Loading the libraries\n",
    "import pandas as pd"
   ]
  },
  {
   "cell_type": "code",
   "execution_count": 2,
   "metadata": {},
   "outputs": [
    {
     "data": {
      "text/html": [
       "<div>\n",
       "<style scoped>\n",
       "    .dataframe tbody tr th:only-of-type {\n",
       "        vertical-align: middle;\n",
       "    }\n",
       "\n",
       "    .dataframe tbody tr th {\n",
       "        vertical-align: top;\n",
       "    }\n",
       "\n",
       "    .dataframe thead th {\n",
       "        text-align: right;\n",
       "    }\n",
       "</style>\n",
       "<table border=\"1\" class=\"dataframe\">\n",
       "  <thead>\n",
       "    <tr style=\"text-align: right;\">\n",
       "      <th></th>\n",
       "      <th>weeks_on_list</th>\n",
       "      <th>publisher</th>\n",
       "      <th>title</th>\n",
       "      <th>author</th>\n",
       "      <th>contributor</th>\n",
       "      <th>age_group</th>\n",
       "      <th>published_date</th>\n",
       "      <th>list_name</th>\n",
       "    </tr>\n",
       "  </thead>\n",
       "  <tbody>\n",
       "    <tr>\n",
       "      <th>0</th>\n",
       "      <td>1</td>\n",
       "      <td>Putnam</td>\n",
       "      <td>OCEAN PREY</td>\n",
       "      <td>John Sandford</td>\n",
       "      <td>by John Sandford</td>\n",
       "      <td>NaN</td>\n",
       "      <td>2021-05-02</td>\n",
       "      <td>Hardcover Fiction</td>\n",
       "    </tr>\n",
       "    <tr>\n",
       "      <th>1</th>\n",
       "      <td>3</td>\n",
       "      <td>Viking</td>\n",
       "      <td>THE HILL WE CLIMB</td>\n",
       "      <td>Amanda Gorman</td>\n",
       "      <td>by Amanda Gorman</td>\n",
       "      <td>NaN</td>\n",
       "      <td>2021-05-02</td>\n",
       "      <td>Hardcover Fiction</td>\n",
       "    </tr>\n",
       "    <tr>\n",
       "      <th>2</th>\n",
       "      <td>1</td>\n",
       "      <td>Emily Bestler/Atria</td>\n",
       "      <td>THE DEVIL'S HAND</td>\n",
       "      <td>Jack Carr</td>\n",
       "      <td>by Jack Carr</td>\n",
       "      <td>NaN</td>\n",
       "      <td>2021-05-02</td>\n",
       "      <td>Hardcover Fiction</td>\n",
       "    </tr>\n",
       "    <tr>\n",
       "      <th>3</th>\n",
       "      <td>11</td>\n",
       "      <td>St. Martin's</td>\n",
       "      <td>THE FOUR WINDS</td>\n",
       "      <td>Kristin Hannah</td>\n",
       "      <td>by Kristin Hannah</td>\n",
       "      <td>NaN</td>\n",
       "      <td>2021-05-02</td>\n",
       "      <td>Hardcover Fiction</td>\n",
       "    </tr>\n",
       "    <tr>\n",
       "      <th>4</th>\n",
       "      <td>20</td>\n",
       "      <td>Viking</td>\n",
       "      <td>THE MIDNIGHT LIBRARY</td>\n",
       "      <td>Matt Haig</td>\n",
       "      <td>by Matt Haig</td>\n",
       "      <td>NaN</td>\n",
       "      <td>2021-05-02</td>\n",
       "      <td>Hardcover Fiction</td>\n",
       "    </tr>\n",
       "  </tbody>\n",
       "</table>\n",
       "</div>"
      ],
      "text/plain": [
       "   weeks_on_list            publisher                 title          author  \\\n",
       "0              1               Putnam            OCEAN PREY   John Sandford   \n",
       "1              3               Viking     THE HILL WE CLIMB   Amanda Gorman   \n",
       "2              1  Emily Bestler/Atria      THE DEVIL'S HAND       Jack Carr   \n",
       "3             11         St. Martin's        THE FOUR WINDS  Kristin Hannah   \n",
       "4             20               Viking  THE MIDNIGHT LIBRARY       Matt Haig   \n",
       "\n",
       "         contributor  age_group published_date          list_name  \n",
       "0   by John Sandford        NaN     2021-05-02  Hardcover Fiction  \n",
       "1   by Amanda Gorman        NaN     2021-05-02  Hardcover Fiction  \n",
       "2       by Jack Carr        NaN     2021-05-02  Hardcover Fiction  \n",
       "3  by Kristin Hannah        NaN     2021-05-02  Hardcover Fiction  \n",
       "4       by Matt Haig        NaN     2021-05-02  Hardcover Fiction  "
      ]
     },
     "execution_count": 2,
     "metadata": {},
     "output_type": "execute_result"
    }
   ],
   "source": [
    "#Loading the dataframes\n",
    "fiction = pd.read_csv('nyt_hardcover_fiction.csv')\n",
    "nonfiction = pd.read_csv('nyt_hardcover_nonfiction.csv')\n",
    "nyt_lists = pd.read_csv('lists.csv')\n",
    "\n",
    "#Merging the dataframes\n",
    "df = pd.concat([fiction, nonfiction])\n",
    "df.head()"
   ]
  },
  {
   "cell_type": "code",
   "execution_count": 3,
   "metadata": {},
   "outputs": [],
   "source": [
    "#Renaming \n",
    "df.rename(columns = {'published_date': 'date_published'}, inplace = True)"
   ]
  },
  {
   "cell_type": "code",
   "execution_count": 4,
   "metadata": {},
   "outputs": [
    {
     "data": {
      "text/plain": [
       "(2100, 8)"
      ]
     },
     "execution_count": 4,
     "metadata": {},
     "output_type": "execute_result"
    }
   ],
   "source": [
    "#Checking the shape of the dataframe\n",
    "df.shape"
   ]
  },
  {
   "cell_type": "code",
   "execution_count": 5,
   "metadata": {},
   "outputs": [
    {
     "data": {
      "text/plain": [
       "weeks_on_list        0\n",
       "publisher            0\n",
       "title                0\n",
       "author               0\n",
       "contributor          0\n",
       "age_group         2100\n",
       "date_published       0\n",
       "list_name            0\n",
       "dtype: int64"
      ]
     },
     "execution_count": 5,
     "metadata": {},
     "output_type": "execute_result"
    }
   ],
   "source": [
    "#Checking for null values\n",
    "df.isnull().sum()"
   ]
  },
  {
   "cell_type": "code",
   "execution_count": 6,
   "metadata": {},
   "outputs": [],
   "source": [
    "df['age_group'] = '' #Changed to make database loading easier"
   ]
  },
  {
   "cell_type": "code",
   "execution_count": 7,
   "metadata": {},
   "outputs": [],
   "source": [
    "#Cleaning the data\n",
    "df['publisher'] = df.publisher.str.strip()\n",
    "df['title'] = df.title.str.capitalize().str.strip()\n",
    "df['author'] = df.author.str.strip()\n",
    "df['contributor'] = df.contributor.str.replace('by', '').str.strip()"
   ]
  },
  {
   "cell_type": "code",
   "execution_count": 8,
   "metadata": {},
   "outputs": [],
   "source": [
    "#The author 'James O. Born' has two version \n",
    "#of thier name that have to be fixed\n",
    "df.loc[df.author.str.lower().str.contains('o born'), 'author'] = df.loc[df.author.str.lower().str.contains('o born'), 'author'].str.replace('James O Born', 'James O. Born')"
   ]
  },
  {
   "cell_type": "code",
   "execution_count": 9,
   "metadata": {},
   "outputs": [],
   "source": [
    "#Cleaning the columns with 'edited'\n",
    "df.loc[df['author'].str.contains('edited'), 'author'] = df.loc[df['author'].str.contains('edited'), 'author'].str.replace('edited', '').str.strip()\n",
    "df.loc[df['contributor'].str.contains('edited'), 'contributor'] = df.loc[df['contributor'].str.contains('edited'), 'contributor'].str.replace('edited', '')"
   ]
  },
  {
   "cell_type": "code",
   "execution_count": 10,
   "metadata": {},
   "outputs": [],
   "source": [
    "def small_dataframes(df, column_name, primary_key, new_column_name):\n",
    "    \n",
    "    \"\"\"This function generates a dataframe with a primary \n",
    "    key column and the data column\"\"\"\n",
    "    \n",
    "    df = pd.DataFrame(df[column_name].unique(), columns = [new_column_name])\n",
    "    df.sort_values(by = new_column_name).reset_index(drop = True, inplace = True)\n",
    "    new_indices = [i for i in range(1, len(df) + 1)]\n",
    "    df[primary_key] = new_indices\n",
    "    df = df[[primary_key, new_column_name]]\n",
    "    return df"
   ]
  },
  {
   "cell_type": "code",
   "execution_count": 11,
   "metadata": {},
   "outputs": [],
   "source": [
    "authors = small_dataframes(df, 'author', 'author_id', 'author_name')\n",
    "authors.to_csv('authors.csv', index = False, encoding = 'utf-8')\n",
    "\n",
    "publishers = small_dataframes(df, 'publisher', 'publisher_id', 'publisher_name')\n",
    "publishers.to_csv('publishers.csv', index = False, encoding = 'utf-8')"
   ]
  },
  {
   "cell_type": "code",
   "execution_count": 12,
   "metadata": {},
   "outputs": [],
   "source": [
    "#Creating the dataframe for the 'books table'\n",
    "books_temp = df[['title', 'author', 'publisher']].copy()\n",
    "books_temp.drop_duplicates(['title', 'author'], keep = 'first', inplace = True)\n",
    "books = pd.merge(authors, books_temp, left_on = 'author_name', right_on = 'author', how = 'inner')\n",
    "books = pd.merge(books, publishers, left_on = 'publisher', right_on = 'publisher_name', how = 'inner')\n",
    "indices = [i for i in range(1, len(books) + 1)]\n",
    "books['book_id'] = indices"
   ]
  },
  {
   "cell_type": "code",
   "execution_count": 13,
   "metadata": {},
   "outputs": [],
   "source": [
    "#Creating the list entries dataframe\n",
    "list_entries_columns = [ 'list_entry_id', 'date_published','book_id',\n",
    "                        'author_id', 'publisher_id', 'contributor', \n",
    "                        'list_id', 'weeks_on_list', 'age_group']\n",
    "\n",
    "df_copy = df.copy()\n",
    "#Joining on title and author because \n",
    "#some books have the same title \n",
    "list_entries = pd.merge(df_copy, books, on = ['title', 'author'], how = 'left')  \n",
    "list_entries = pd.merge(list_entries, nyt_lists, on = 'list_name', how = 'left')\n",
    "list_entry_indices = [i for i in range(1, len(list_entries) + 1)]\n",
    "list_entries['list_entry_id'] = list_entry_indices\n",
    "list_entries = list_entries[list_entries_columns]\n",
    "list_entries.to_csv('list_entries.csv', index = False, na_rep = r'\\N', encoding = 'utf-8')"
   ]
  },
  {
   "cell_type": "code",
   "execution_count": 14,
   "metadata": {},
   "outputs": [],
   "source": [
    "book_columns = ['book_id', 'title', 'author_id', 'publisher_id']\n",
    "books = books[book_columns].copy() #Reducing the columns in the books dataframes\n",
    "books.to_csv('books.csv', index = False, encoding = 'utf-8')"
   ]
  }
 ],
 "metadata": {
  "kernelspec": {
   "display_name": "Python 3",
   "language": "python",
   "name": "python3"
  },
  "language_info": {
   "codemirror_mode": {
    "name": "ipython",
    "version": 3
   },
   "file_extension": ".py",
   "mimetype": "text/x-python",
   "name": "python",
   "nbconvert_exporter": "python",
   "pygments_lexer": "ipython3",
   "version": "3.8.5"
  }
 },
 "nbformat": 4,
 "nbformat_minor": 4
}
