{
 "cells": [
  {
   "cell_type": "code",
   "execution_count": 1,
   "metadata": {},
   "outputs": [],
   "source": [
    "#Importing the libaries\n",
    "import requests\n",
    "import pandas as pd\n",
    "import numpy as np\n",
    "from bs4 import BeautifulSoup"
   ]
  },
  {
   "cell_type": "code",
   "execution_count": 2,
   "metadata": {},
   "outputs": [],
   "source": [
    "#Making a request to the New York Times Bestsellers page\n",
    "response = requests.get('https://www.nytimes.com/books/best-sellers/')"
   ]
  },
  {
   "cell_type": "code",
   "execution_count": 3,
   "metadata": {},
   "outputs": [],
   "source": [
    "#Parsing the HTML\n",
    "html = BeautifulSoup(response.content, 'html.parser')\n",
    "\n",
    "#Creating a dictionary with the \n",
    "#category of the lists and the \n",
    "#name of the lists\n",
    "\n",
    "nyt_lists = {}\n",
    "list_sections = html.find_all('div', class_ = 'css-nl1pro')\n",
    "for i, list_section in enumerate(list_sections):\n",
    "    list_category = list_section.find('h2', class_ = 'css-ok8je7').text\n",
    "    nyt_lists[list_category] = []\n",
    "    \n",
    "    #The 'Weekly Best Sellers Lists' has the 'li' tag \n",
    "    #but the 'Monthly Best Sellers Lists' has the 'div' tag\n",
    "    #so extraction has to be handled differently\n",
    "    if i == 0:\n",
    "        nyt_list_names = list_section.find_all('li', class_ = 'css-108lmbq')\n",
    "        for nyt_list in nyt_list_names:\n",
    "            nyt_lists[list_category].append(nyt_list.text)\n",
    "    else:\n",
    "        nyt_list_names= list_section.find_all('div', class_ = 'css-108lmbq')\n",
    "        for nyt_list in nyt_list_names:\n",
    "            nyt_lists[list_category].append(nyt_list.text)"
   ]
  },
  {
   "cell_type": "code",
   "execution_count": 4,
   "metadata": {},
   "outputs": [],
   "source": [
    "dataframes = []\n",
    "#list names has the \n",
    "list_category = list(nyt_lists.keys())\n",
    "\n",
    "for i, a_list in enumerate(list_category):\n",
    "    temp_df = pd.DataFrame.from_dict(nyt_lists[a_list])\n",
    "    temp_df['frequency'] = list_category[i]\n",
    "    temp_df['frequency'] = temp_df['frequency'].str.lower().str.replace('best sellers lists', '').str.strip().str.capitalize()\n",
    "    dataframes.append(temp_df)\n",
    "\n",
    "#Creating a dataframe \n",
    "df = pd.concat(dataframes)\n",
    "df.rename(columns = {0: 'list_name'}, inplace = True)\n",
    "df.reset_index(drop = True, inplace = True)\n",
    "df['list_name'] = df['list_name'].str.strip()\n",
    "indices = [i for i in range(1, len(df) + 1)]\n",
    "df['list_id'] = indices\n",
    "\n",
    "#Reordering the columns for database loading\n",
    "df = df[['list_id', 'list_name', 'frequency']]\n",
    "\n",
    "#Creating a csv file of the NYT bestseller lsists \n",
    "df.to_csv('lists.csv', index = False, encoding = 'utf-8')"
   ]
  }
 ],
 "metadata": {
  "kernelspec": {
   "display_name": "Python 3",
   "language": "python",
   "name": "python3"
  },
  "language_info": {
   "codemirror_mode": {
    "name": "ipython",
    "version": 3
   },
   "file_extension": ".py",
   "mimetype": "text/x-python",
   "name": "python",
   "nbconvert_exporter": "python",
   "pygments_lexer": "ipython3",
   "version": "3.8.5"
  }
 },
 "nbformat": 4,
 "nbformat_minor": 4
}
