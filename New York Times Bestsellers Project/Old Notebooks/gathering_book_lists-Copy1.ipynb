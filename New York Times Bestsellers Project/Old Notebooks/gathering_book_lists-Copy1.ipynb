{
 "cells": [
  {
   "cell_type": "markdown",
   "metadata": {},
   "source": [
    "# Accessing the New York Times API"
   ]
  },
  {
   "cell_type": "code",
   "execution_count": 1,
   "metadata": {},
   "outputs": [],
   "source": [
    "import requests\n",
    "import pandas as pd\n",
    "import datetime as dt"
   ]
  },
  {
   "cell_type": "markdown",
   "metadata": {},
   "source": [
    "## Accessing the API"
   ]
  },
  {
   "cell_type": "code",
   "execution_count": 14,
   "metadata": {},
   "outputs": [],
   "source": [
    "dates = []\n",
    "date_tuple = (2021, 5, 2)\n",
    "while date_tuple != (2019, 12, 29):\n",
    "    (year, month, day) = date_tuple \n",
    "    date = dt.date(year, month, day)\n",
    "    date_str = dt.datetime.strftime(date, '%Y-%m-%d')\n",
    "    dates.append(date_str)\n",
    "    date_subtract = date - dt.timedelta(7)\n",
    "    date_tuple = (date_subtract.year, date_subtract.month, date_subtract.day)"
   ]
  },
  {
   "cell_type": "code",
   "execution_count": 15,
   "metadata": {},
   "outputs": [],
   "source": [
    "#Creating chunks of the dates list to \n",
    "#be able to access the NYT API\n",
    "date_chunks = [dates[i: i + 6] for i in range(0, len(dates), 6)]"
   ]
  },
  {
   "cell_type": "code",
   "execution_count": 16,
   "metadata": {},
   "outputs": [
    {
     "data": {
      "text/plain": [
       "['2020-01-26', '2020-01-19', '2020-01-12', '2020-01-05']"
      ]
     },
     "execution_count": 16,
     "metadata": {},
     "output_type": "execute_result"
    }
   ],
   "source": [
    "date_chunks[-1]"
   ]
  },
  {
   "cell_type": "code",
   "execution_count": null,
   "metadata": {},
   "outputs": [],
   "source": [
    "# #Using a subset of the dates list to \n",
    "# #be able to access the NYT API\n",
    "# dates_subset_1 = dates[:6]\n",
    "# dates_subset_2 = dates[6:12]\n",
    "# dates_subset_3 = dates[12:18]\n",
    "# dates_subset_4 = dates[18:24]\n",
    "# dates_subset_5 = dates[24:30]\n",
    "# dates_subset_6 = dates[30:36]\n",
    "# dates_subset_7 = dates[36:42]\n",
    "# dates_subset_8 = dates[42:48]\n",
    "# dates_subset_9 = dates[48:]"
   ]
  },
  {
   "cell_type": "code",
   "execution_count": null,
   "metadata": {},
   "outputs": [],
   "source": [
    "def get_data(dates_list):\n",
    "    book_data = {'weeks_on_list': [], 'publisher': [], \n",
    "                 'title': [], 'author': [], 'contributor': [], \n",
    "                 'age_group': [], 'published_date': [], 'list_name': []}\n",
    "\n",
    "    for date in dates_list:\n",
    "        url = f'https://api.nytimes.com/svc/books/v3/lists/{date}/hardcover-fiction.json?api-key=ktKhpKGNU9A988ja0j6eDwFu4njxRxC7'\n",
    "        response = requests.get(url)\n",
    "        json_data = response.json()\n",
    "        \n",
    "        books_list = json_data['results']['books']\n",
    "        for book in books_list:\n",
    "            weeks_on_list = book['weeks_on_list']\n",
    "            book_data['weeks_on_list'].append(weeks_on_list)\n",
    "\n",
    "            publisher = book['publisher']\n",
    "            book_data['publisher'].append(publisher)\n",
    "\n",
    "            title = book['title']\n",
    "            book_data['title'].append(title)\n",
    "\n",
    "            author = book['author']\n",
    "            book_data['author'].append(author)\n",
    "\n",
    "            contributor = book['contributor']\n",
    "            book_data['contributor'].append(contributor)\n",
    "\n",
    "            age_group = book['age_group']\n",
    "            book_data['age_group'].append(age_group)\n",
    "\n",
    "            date_published = json_data['results']['published_date']\n",
    "            book_data['published_date'].append(date_published)\n",
    "\n",
    "            list_name = json_data['results']['list_name']\n",
    "            book_data['list_name'].append(list_name)\n",
    "            \n",
    "    return book_data\n"
   ]
  },
  {
   "cell_type": "code",
   "execution_count": null,
   "metadata": {},
   "outputs": [],
   "source": [
    "books_1 = get_data(dates_subset_1)\n",
    "df1 = pd.DataFrame.from_dict(books_1)"
   ]
  },
  {
   "cell_type": "code",
   "execution_count": null,
   "metadata": {},
   "outputs": [],
   "source": [
    "books_2 = get_data(dates_subset_2)\n",
    "df2 = pd.DataFrame.from_dict(books_2)"
   ]
  },
  {
   "cell_type": "code",
   "execution_count": null,
   "metadata": {},
   "outputs": [],
   "source": [
    "books_3 = get_data(dates_subset_3)\n",
    "df3 = pd.DataFrame.from_dict(books_3)"
   ]
  },
  {
   "cell_type": "code",
   "execution_count": null,
   "metadata": {},
   "outputs": [],
   "source": [
    "books_4 = get_data(dates_subset_4)\n",
    "df4 = pd.DataFrame.from_dict(books_4)"
   ]
  },
  {
   "cell_type": "code",
   "execution_count": null,
   "metadata": {},
   "outputs": [],
   "source": [
    "books_5 = get_data(dates_subset_5)\n",
    "df5 = pd.DataFrame.from_dict(books_5)"
   ]
  },
  {
   "cell_type": "code",
   "execution_count": null,
   "metadata": {},
   "outputs": [],
   "source": [
    "books_6 = get_data(dates_subset_6)\n",
    "df6 = pd.DataFrame.from_dict(books_6)"
   ]
  },
  {
   "cell_type": "code",
   "execution_count": null,
   "metadata": {},
   "outputs": [],
   "source": [
    "books_7 = get_data(dates_subset_7)\n",
    "df7 = pd.DataFrame.from_dict(books_7)"
   ]
  },
  {
   "cell_type": "code",
   "execution_count": null,
   "metadata": {},
   "outputs": [],
   "source": [
    "books_8 = get_data(dates_subset_8)\n",
    "df8 = pd.DataFrame.from_dict(books_8)"
   ]
  },
  {
   "cell_type": "code",
   "execution_count": null,
   "metadata": {},
   "outputs": [],
   "source": [
    "books_9 = get_data(dates_subset_9)\n",
    "df9 = pd.DataFrame.from_dict(books_9)"
   ]
  },
  {
   "cell_type": "code",
   "execution_count": null,
   "metadata": {},
   "outputs": [],
   "source": [
    "df = pd.concat([df1, df2, df3, df4, df5, df7, df8, df9], axis = 'index')\n",
    "df.to_csv('nyt_bestsellers.csv', index = False)"
   ]
  }
 ],
 "metadata": {
  "kernelspec": {
   "display_name": "Python 3",
   "language": "python",
   "name": "python3"
  },
  "language_info": {
   "codemirror_mode": {
    "name": "ipython",
    "version": 3
   },
   "file_extension": ".py",
   "mimetype": "text/x-python",
   "name": "python",
   "nbconvert_exporter": "python",
   "pygments_lexer": "ipython3",
   "version": "3.8.5"
  }
 },
 "nbformat": 4,
 "nbformat_minor": 4
}
