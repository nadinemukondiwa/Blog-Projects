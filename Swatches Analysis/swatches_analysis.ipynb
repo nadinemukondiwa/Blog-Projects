{
 "cells": [
  {
   "cell_type": "markdown",
   "metadata": {},
   "source": [
    "# How much do Swatch watches cost?"
   ]
  },
  {
   "cell_type": "code",
   "execution_count": 1,
   "metadata": {
    "scrolled": false
   },
   "outputs": [],
   "source": [
    "import re\n",
    "import requests\n",
    "import numpy as np\n",
    "import pandas as pd\n",
    "import seaborn as sns\n",
    "import datetime as dt\n",
    "from bs4 import BeautifulSoup\n",
    "import matplotlib.pyplot as plt\n",
    "import matplotlib.ticker as ticker"
   ]
  },
  {
   "cell_type": "markdown",
   "metadata": {},
   "source": [
    "## Webscraping"
   ]
  },
  {
   "cell_type": "code",
   "execution_count": 2,
   "metadata": {
    "scrolled": false
   },
   "outputs": [],
   "source": [
    "#Urls of the relevant webpages\n",
    "urls = ['https://shop.swatch.com/en_ca/catalogsearch/result/?q=women',\n",
    "        'https://shop.swatch.com/en_ca/catalogsearch/result?p=2&q=women',\n",
    "        'https://shop.swatch.com/en_ca/catalogsearch/result?p=3&q=women']\n",
    "\n",
    "#Dictionary with the name, price, strap material\n",
    "#colour and function of each product\n",
    "\n",
    "watches_dict = {'name': [], 'price': [], 'strap_material': [], 'colour': [], 'function': []}\n",
    "\n",
    "\n",
    "for index, url in enumerate(urls):\n",
    "    response = requests.get(url)\n",
    "    soup = BeautifulSoup(response.content, 'html.parser')\n",
    "    watches = soup.find_all('li', class_ = 'item')\n",
    "    \n",
    "    #Search patterns for the colour, strap material and function \n",
    "    colour_pattern = r\"'item_color'\\:\\s+'(\\w+)(\\s?)(\\w+)'\"\n",
    "    strap_material_pattern = r\"'strap_material'\\:\\s+'(\\w+)(\\.*)(\\s*)(\\w*)(\\s*)(\\w*)(/*)(-*)(\\w*)(\\s*)(\\w*)'\"\n",
    "    function_pattern = r\"'item_function'\\:\\s+'(\\w+)(,*)(\\w*)(-*)(\\w*)(,*)(\\w*)(,*)(\\w*)(\\s?)(\\w*)(\\w*)(,*)(\\w*)(/*)(-*)(\\w*)(\\s*)(\\w*)'\"\n",
    "    \n",
    "    #The first two webpages contain the relevant information \n",
    "    #from the 31st index to the 54th index\n",
    "    if index < 2:\n",
    "        for number in range(31, 55):\n",
    "            \n",
    "            \n",
    "            #Name of the watch \n",
    "            name = watches[number].find('a', class_ = 'product-image')['title']\n",
    "            watches_dict['name'].append(name)\n",
    "            \n",
    "            #Price of the watch \n",
    "            price = watches[number].find('span',class_ = 'price').text\n",
    "            watches_dict['price'].append(price)\n",
    "            \n",
    "            #Javascript text that contains the strap material,\n",
    "            #colour and function of the watch \n",
    "            java_script_text = watches[number].find('script', {'type': 'text/javascript'}).string\n",
    "            \n",
    "            #Strap material of the watch \n",
    "            if bool(re.search(strap_material_pattern, java_script_text)) == False:\n",
    "                watches_dict['strap_material'].append(np.nan)\n",
    "            else:\n",
    "                strap_text_match = re.search(strap_material_pattern, java_script_text)\n",
    "                strap_material = strap_text_match.group(0)\n",
    "                watches_dict['strap_material'].append(strap_material)\n",
    "              \n",
    "            #Colour of the watch \n",
    "            if bool(re.search(colour_pattern, java_script_text)) == False:\n",
    "                watches_dict['colour'].append(np.nan)\n",
    "            else:\n",
    "                colour_text_match = re.search(colour_pattern, java_script_text)\n",
    "                colour = colour_text_match.group(0)\n",
    "                watches_dict['colour'].append(colour)\n",
    "            \n",
    "            #Function of the watch\n",
    "            if bool(re.search(function_pattern, java_script_text)) ==  False:\n",
    "                watches_dict['function'].append(np.nan)\n",
    "            else:\n",
    "                function_text_match = re.search(function_pattern, java_script_text)\n",
    "                function = function_text_match.group(0)\n",
    "                watches_dict['function'].append(function)\n",
    "     \n",
    "    else:\n",
    "        \n",
    "        #The last webpage has fewer products than the first page\n",
    "        #indexing is only necessary for a smaller range\n",
    "        for number in range(31, 47):\n",
    "            \n",
    "            #Name of the watch \n",
    "            name = watches[number].find('a', class_ = 'product-image')['title']\n",
    "            price = watches[number].find('span',class_ = 'price').text\n",
    "            \n",
    "            #Price of the watch\n",
    "            watches_dict['name'].append(name)\n",
    "            watches_dict['price'].append(price)\n",
    "            \n",
    "            #Javascript text that contains the strap material,\n",
    "            #colour and function of the watch \n",
    "            java_script_text = watches[number].find('script', {'type': 'text/javascript'}).string\n",
    "            \n",
    "            #Strap material of the watch \n",
    "            if bool(re.search(strap_material_pattern, java_script_text)) == False:\n",
    "                watches_dict['strap_material'].append(np.nan)\n",
    "            else:\n",
    "                strap_text_match = re.search(strap_material_pattern, java_script_text)\n",
    "                strap_material = strap_text_match.group(0)\n",
    "                watches_dict['strap_material'].append(strap_material)\n",
    "            \n",
    "            #Colour of the watch \n",
    "            if bool(re.search(colour_pattern, java_script_text)) == False:\n",
    "                watches_dict['colour'].append(np.nan)\n",
    "            else:\n",
    "                colour_text_match = re.search(colour_pattern, java_script_text)\n",
    "                colour = colour_text_match.group(0)\n",
    "                watches_dict['colour'].append(colour)\n",
    "            \n",
    "            #Function of the watch\n",
    "            if bool(re.search(function_pattern, java_script_text)) ==  False:\n",
    "                watches_dict['function'].append(np.nan)\n",
    "            else:\n",
    "                function_text_match = re.search(function_pattern, java_script_text)\n",
    "                function = function_text_match.group(0)\n",
    "                watches_dict['function'].append(function)"
   ]
  },
  {
   "cell_type": "code",
   "execution_count": 3,
   "metadata": {
    "scrolled": true
   },
   "outputs": [],
   "source": [
    "#Dataframe of the watches\n",
    "df = pd.DataFrame.from_dict(watches_dict)"
   ]
  },
  {
   "cell_type": "markdown",
   "metadata": {},
   "source": [
    "## Data cleaning"
   ]
  },
  {
   "cell_type": "code",
   "execution_count": 4,
   "metadata": {
    "scrolled": false
   },
   "outputs": [],
   "source": [
    "#Adding the date the data was scraped\n",
    "df['date_scraped'] = dt.date.today()"
   ]
  },
  {
   "cell_type": "code",
   "execution_count": 5,
   "metadata": {
    "scrolled": false
   },
   "outputs": [
    {
     "data": {
      "text/html": [
       "<div>\n",
       "<style scoped>\n",
       "    .dataframe tbody tr th:only-of-type {\n",
       "        vertical-align: middle;\n",
       "    }\n",
       "\n",
       "    .dataframe tbody tr th {\n",
       "        vertical-align: top;\n",
       "    }\n",
       "\n",
       "    .dataframe thead th {\n",
       "        text-align: right;\n",
       "    }\n",
       "</style>\n",
       "<table border=\"1\" class=\"dataframe\">\n",
       "  <thead>\n",
       "    <tr style=\"text-align: right;\">\n",
       "      <th></th>\n",
       "      <th>name</th>\n",
       "      <th>price</th>\n",
       "      <th>strap_material</th>\n",
       "      <th>colour</th>\n",
       "      <th>function</th>\n",
       "      <th>date_scraped</th>\n",
       "    </tr>\n",
       "  </thead>\n",
       "  <tbody>\n",
       "    <tr>\n",
       "      <th>0</th>\n",
       "      <td>SPARKLINGOT</td>\n",
       "      <td>$95.00</td>\n",
       "      <td>'strap_material': 'Silicone'</td>\n",
       "      <td>'item_color': 'Transparent'</td>\n",
       "      <td>'item_function': 'Water-resistance'</td>\n",
       "      <td>2021-01-24</td>\n",
       "    </tr>\n",
       "    <tr>\n",
       "      <th>1</th>\n",
       "      <td>#OPENSUMMER</td>\n",
       "      <td>$110.00</td>\n",
       "      <td>'strap_material': 'Silicone'</td>\n",
       "      <td>'item_color': 'Transparent'</td>\n",
       "      <td>'item_function': 'Water-resistance'</td>\n",
       "      <td>2021-01-24</td>\n",
       "    </tr>\n",
       "    <tr>\n",
       "      <th>2</th>\n",
       "      <td>SIDERAL BLUE</td>\n",
       "      <td>$95.00</td>\n",
       "      <td>'strap_material': 'Silicone'</td>\n",
       "      <td>'item_color': 'Blue'</td>\n",
       "      <td>'item_function': 'Water-resistance'</td>\n",
       "      <td>2021-01-24</td>\n",
       "    </tr>\n",
       "    <tr>\n",
       "      <th>3</th>\n",
       "      <td>SIDERAL GREY</td>\n",
       "      <td>$130.00</td>\n",
       "      <td>'strap_material': 'Synthetic/Leather'</td>\n",
       "      <td>'item_color': 'Grey'</td>\n",
       "      <td>'item_function': 'Water-resistance'</td>\n",
       "      <td>2021-01-24</td>\n",
       "    </tr>\n",
       "    <tr>\n",
       "      <th>4</th>\n",
       "      <td>LOST MOON</td>\n",
       "      <td>$130.00</td>\n",
       "      <td>'strap_material': 'Synthetic/Leather'</td>\n",
       "      <td>'item_color': 'Black'</td>\n",
       "      <td>'item_function': 'Water-resistance'</td>\n",
       "      <td>2021-01-24</td>\n",
       "    </tr>\n",
       "  </tbody>\n",
       "</table>\n",
       "</div>"
      ],
      "text/plain": [
       "           name    price                         strap_material  \\\n",
       "0   SPARKLINGOT   $95.00           'strap_material': 'Silicone'   \n",
       "1   #OPENSUMMER  $110.00           'strap_material': 'Silicone'   \n",
       "2  SIDERAL BLUE   $95.00           'strap_material': 'Silicone'   \n",
       "3  SIDERAL GREY  $130.00  'strap_material': 'Synthetic/Leather'   \n",
       "4     LOST MOON  $130.00  'strap_material': 'Synthetic/Leather'   \n",
       "\n",
       "                        colour                             function  \\\n",
       "0  'item_color': 'Transparent'  'item_function': 'Water-resistance'   \n",
       "1  'item_color': 'Transparent'  'item_function': 'Water-resistance'   \n",
       "2         'item_color': 'Blue'  'item_function': 'Water-resistance'   \n",
       "3         'item_color': 'Grey'  'item_function': 'Water-resistance'   \n",
       "4        'item_color': 'Black'  'item_function': 'Water-resistance'   \n",
       "\n",
       "  date_scraped  \n",
       "0   2021-01-24  \n",
       "1   2021-01-24  \n",
       "2   2021-01-24  \n",
       "3   2021-01-24  \n",
       "4   2021-01-24  "
      ]
     },
     "execution_count": 5,
     "metadata": {},
     "output_type": "execute_result"
    }
   ],
   "source": [
    "#First five rows of the dataframe\n",
    "df.head()"
   ]
  },
  {
   "cell_type": "code",
   "execution_count": 6,
   "metadata": {
    "scrolled": false
   },
   "outputs": [
    {
     "data": {
      "text/plain": [
       "(64, 6)"
      ]
     },
     "execution_count": 6,
     "metadata": {},
     "output_type": "execute_result"
    }
   ],
   "source": [
    "#Rows and columns of the dataframe\n",
    "df.shape"
   ]
  },
  {
   "cell_type": "code",
   "execution_count": 7,
   "metadata": {
    "scrolled": false
   },
   "outputs": [],
   "source": [
    "#Changing the name of the product to titlecase\n",
    "df['name'] = df.name.str.title()"
   ]
  },
  {
   "cell_type": "code",
   "execution_count": 8,
   "metadata": {
    "scrolled": false
   },
   "outputs": [],
   "source": [
    "#Removing the \"$\" from the product and converting it to a float\n",
    "df['price'] = df.price.str.strip('$').astype('float')"
   ]
  },
  {
   "cell_type": "code",
   "execution_count": 9,
   "metadata": {
    "scrolled": false
   },
   "outputs": [],
   "source": [
    "#Cleaning the strap material column \n",
    "df['strap_material'] = df.strap_material.str.replace(\"'strap_material':\", '').str.strip().str.replace(\"'\", '')"
   ]
  },
  {
   "cell_type": "code",
   "execution_count": 10,
   "metadata": {
    "scrolled": false
   },
   "outputs": [],
   "source": [
    "#Cleaning the item function column\n",
    "df['function'] = df.function.str.replace(\"'item_function':\", '').str.replace(\"'\", '').str.strip()"
   ]
  },
  {
   "cell_type": "code",
   "execution_count": 11,
   "metadata": {
    "scrolled": false
   },
   "outputs": [],
   "source": [
    "#CLeaning the colour column\n",
    "df['colour'] = df.colour.str.replace(\"'item_color':\", '').str.replace(\"'\", '').str.strip()"
   ]
  },
  {
   "cell_type": "code",
   "execution_count": 12,
   "metadata": {
    "scrolled": false
   },
   "outputs": [
    {
     "data": {
      "text/plain": [
       "Silicone                39\n",
       "Bio-sourced material    14\n",
       "Synthetic/Leather        5\n",
       "St. Steel Adjustable     3\n",
       "Rubber                   2\n",
       "Name: strap_material, dtype: int64"
      ]
     },
     "execution_count": 12,
     "metadata": {},
     "output_type": "execute_result"
    }
   ],
   "source": [
    "#Checking the types of strap material \n",
    "df.strap_material.value_counts()"
   ]
  },
  {
   "cell_type": "code",
   "execution_count": 13,
   "metadata": {
    "scrolled": false
   },
   "outputs": [
    {
     "data": {
      "text/html": [
       "<div>\n",
       "<style scoped>\n",
       "    .dataframe tbody tr th:only-of-type {\n",
       "        vertical-align: middle;\n",
       "    }\n",
       "\n",
       "    .dataframe tbody tr th {\n",
       "        vertical-align: top;\n",
       "    }\n",
       "\n",
       "    .dataframe thead th {\n",
       "        text-align: right;\n",
       "    }\n",
       "</style>\n",
       "<table border=\"1\" class=\"dataframe\">\n",
       "  <thead>\n",
       "    <tr style=\"text-align: right;\">\n",
       "      <th></th>\n",
       "      <th>name</th>\n",
       "      <th>price</th>\n",
       "      <th>strap_material</th>\n",
       "      <th>colour</th>\n",
       "      <th>function</th>\n",
       "      <th>date_scraped</th>\n",
       "    </tr>\n",
       "  </thead>\n",
       "  <tbody>\n",
       "    <tr>\n",
       "      <th>62</th>\n",
       "      <td>Luminescent Rose</td>\n",
       "      <td>180.0</td>\n",
       "      <td>NaN</td>\n",
       "      <td>Pink</td>\n",
       "      <td>Water-resistance</td>\n",
       "      <td>2021-01-24</td>\n",
       "    </tr>\n",
       "  </tbody>\n",
       "</table>\n",
       "</div>"
      ],
      "text/plain": [
       "                name  price strap_material colour          function  \\\n",
       "62  Luminescent Rose  180.0            NaN   Pink  Water-resistance   \n",
       "\n",
       "   date_scraped  \n",
       "62   2021-01-24  "
      ]
     },
     "execution_count": 13,
     "metadata": {},
     "output_type": "execute_result"
    }
   ],
   "source": [
    "#Checking for rows with missing strap material\n",
    "df[df.strap_material.isnull()]"
   ]
  },
  {
   "cell_type": "code",
   "execution_count": 14,
   "metadata": {
    "scrolled": false
   },
   "outputs": [],
   "source": [
    "#Entering the strap material of the Luminescent Rose watch\n",
    "df.iloc[62,2] = 'St. Steel (milanese)'"
   ]
  },
  {
   "cell_type": "code",
   "execution_count": 15,
   "metadata": {
    "scrolled": false
   },
   "outputs": [
    {
     "data": {
      "text/html": [
       "<div>\n",
       "<style scoped>\n",
       "    .dataframe tbody tr th:only-of-type {\n",
       "        vertical-align: middle;\n",
       "    }\n",
       "\n",
       "    .dataframe tbody tr th {\n",
       "        vertical-align: top;\n",
       "    }\n",
       "\n",
       "    .dataframe thead th {\n",
       "        text-align: right;\n",
       "    }\n",
       "</style>\n",
       "<table border=\"1\" class=\"dataframe\">\n",
       "  <thead>\n",
       "    <tr style=\"text-align: right;\">\n",
       "      <th></th>\n",
       "      <th>name</th>\n",
       "      <th>price</th>\n",
       "      <th>strap_material</th>\n",
       "      <th>colour</th>\n",
       "      <th>function</th>\n",
       "      <th>date_scraped</th>\n",
       "    </tr>\n",
       "  </thead>\n",
       "  <tbody>\n",
       "    <tr>\n",
       "      <th>26</th>\n",
       "      <td>Greytralize</td>\n",
       "      <td>225.0</td>\n",
       "      <td>St. Steel Adjustable</td>\n",
       "      <td>Grey</td>\n",
       "      <td>NaN</td>\n",
       "      <td>2021-01-24</td>\n",
       "    </tr>\n",
       "    <tr>\n",
       "      <th>33</th>\n",
       "      <td>Bbbubbles</td>\n",
       "      <td>135.0</td>\n",
       "      <td>Silicone</td>\n",
       "      <td>Green</td>\n",
       "      <td>NaN</td>\n",
       "      <td>2021-01-24</td>\n",
       "    </tr>\n",
       "    <tr>\n",
       "      <th>34</th>\n",
       "      <td>Bbbeauty</td>\n",
       "      <td>135.0</td>\n",
       "      <td>Silicone</td>\n",
       "      <td>Grey</td>\n",
       "      <td>NaN</td>\n",
       "      <td>2021-01-24</td>\n",
       "    </tr>\n",
       "    <tr>\n",
       "      <th>35</th>\n",
       "      <td>Bbblood</td>\n",
       "      <td>135.0</td>\n",
       "      <td>Silicone</td>\n",
       "      <td>Black</td>\n",
       "      <td>NaN</td>\n",
       "      <td>2021-01-24</td>\n",
       "    </tr>\n",
       "    <tr>\n",
       "      <th>36</th>\n",
       "      <td>Bbblue</td>\n",
       "      <td>135.0</td>\n",
       "      <td>Silicone</td>\n",
       "      <td>Black</td>\n",
       "      <td>NaN</td>\n",
       "      <td>2021-01-24</td>\n",
       "    </tr>\n",
       "    <tr>\n",
       "      <th>37</th>\n",
       "      <td>Bbblack</td>\n",
       "      <td>135.0</td>\n",
       "      <td>Silicone</td>\n",
       "      <td>Black</td>\n",
       "      <td>NaN</td>\n",
       "      <td>2021-01-24</td>\n",
       "    </tr>\n",
       "    <tr>\n",
       "      <th>38</th>\n",
       "      <td>Bbblanco</td>\n",
       "      <td>135.0</td>\n",
       "      <td>Silicone</td>\n",
       "      <td>Green</td>\n",
       "      <td>NaN</td>\n",
       "      <td>2021-01-24</td>\n",
       "    </tr>\n",
       "    <tr>\n",
       "      <th>39</th>\n",
       "      <td>Bbneon</td>\n",
       "      <td>135.0</td>\n",
       "      <td>Silicone</td>\n",
       "      <td>Blue</td>\n",
       "      <td>NaN</td>\n",
       "      <td>2021-01-24</td>\n",
       "    </tr>\n",
       "    <tr>\n",
       "      <th>40</th>\n",
       "      <td>Bbcandy</td>\n",
       "      <td>135.0</td>\n",
       "      <td>Silicone</td>\n",
       "      <td>Blue</td>\n",
       "      <td>NaN</td>\n",
       "      <td>2021-01-24</td>\n",
       "    </tr>\n",
       "    <tr>\n",
       "      <th>41</th>\n",
       "      <td>Bbnavy</td>\n",
       "      <td>135.0</td>\n",
       "      <td>Silicone</td>\n",
       "      <td>Blue</td>\n",
       "      <td>NaN</td>\n",
       "      <td>2021-01-24</td>\n",
       "    </tr>\n",
       "    <tr>\n",
       "      <th>42</th>\n",
       "      <td>Bbcream</td>\n",
       "      <td>135.0</td>\n",
       "      <td>Silicone</td>\n",
       "      <td>Blue</td>\n",
       "      <td>NaN</td>\n",
       "      <td>2021-01-24</td>\n",
       "    </tr>\n",
       "    <tr>\n",
       "      <th>43</th>\n",
       "      <td>Big Bold Jellyfish</td>\n",
       "      <td>140.0</td>\n",
       "      <td>Silicone</td>\n",
       "      <td>Transparent</td>\n",
       "      <td>NaN</td>\n",
       "      <td>2021-01-24</td>\n",
       "    </tr>\n",
       "  </tbody>\n",
       "</table>\n",
       "</div>"
      ],
      "text/plain": [
       "                  name  price        strap_material       colour function  \\\n",
       "26         Greytralize  225.0  St. Steel Adjustable         Grey      NaN   \n",
       "33           Bbbubbles  135.0              Silicone        Green      NaN   \n",
       "34            Bbbeauty  135.0              Silicone         Grey      NaN   \n",
       "35             Bbblood  135.0              Silicone        Black      NaN   \n",
       "36              Bbblue  135.0              Silicone        Black      NaN   \n",
       "37             Bbblack  135.0              Silicone        Black      NaN   \n",
       "38            Bbblanco  135.0              Silicone        Green      NaN   \n",
       "39              Bbneon  135.0              Silicone         Blue      NaN   \n",
       "40             Bbcandy  135.0              Silicone         Blue      NaN   \n",
       "41              Bbnavy  135.0              Silicone         Blue      NaN   \n",
       "42             Bbcream  135.0              Silicone         Blue      NaN   \n",
       "43  Big Bold Jellyfish  140.0              Silicone  Transparent      NaN   \n",
       "\n",
       "   date_scraped  \n",
       "26   2021-01-24  \n",
       "33   2021-01-24  \n",
       "34   2021-01-24  \n",
       "35   2021-01-24  \n",
       "36   2021-01-24  \n",
       "37   2021-01-24  \n",
       "38   2021-01-24  \n",
       "39   2021-01-24  \n",
       "40   2021-01-24  \n",
       "41   2021-01-24  \n",
       "42   2021-01-24  \n",
       "43   2021-01-24  "
      ]
     },
     "execution_count": 15,
     "metadata": {},
     "output_type": "execute_result"
    }
   ],
   "source": [
    "#Checking for watches with a missing function\n",
    "df[df.function.isnull()]"
   ]
  },
  {
   "cell_type": "markdown",
   "metadata": {},
   "source": [
    "Some of the watches did not have any information for the function, so those rows have missing values."
   ]
  },
  {
   "cell_type": "code",
   "execution_count": 16,
   "metadata": {
    "scrolled": false
   },
   "outputs": [
    {
     "data": {
      "text/plain": [
       "Water-resistance                        36\n",
       "Water-resistance,Daydate                 6\n",
       "Glowing,Water-resistance,Chrono,Date     3\n",
       "Watch Typo,Water-resistance              2\n",
       "Automatic,Water-resistance               2\n",
       "Water-resistance,Chrono,Date,Glowing     1\n",
       "Watch Illustration                       1\n",
       "Glowing,Water-resistance                 1\n",
       "Name: function, dtype: int64"
      ]
     },
     "execution_count": 16,
     "metadata": {},
     "output_type": "execute_result"
    }
   ],
   "source": [
    "#Checking the function values\n",
    "df.function.value_counts()"
   ]
  },
  {
   "cell_type": "code",
   "execution_count": 17,
   "metadata": {
    "scrolled": false
   },
   "outputs": [],
   "source": [
    "#Creating a binary column for whether or not \n",
    "#a watch is water resistant\n",
    "df.loc[df.function.str.lower().str.contains('water-resistance', na = False), 'water_resistant'] = 1\n",
    "df.loc[~df.function.str.lower().str.contains('water-resistance', na = False), 'water_resistant'] = 0"
   ]
  },
  {
   "cell_type": "code",
   "execution_count": 18,
   "metadata": {
    "scrolled": false
   },
   "outputs": [],
   "source": [
    "#Creating a binary column for whether or not \n",
    "#a watch has a date\n",
    "df.loc[df.function.str.lower().str.contains('date', na = False), 'date_function'] = 1\n",
    "df.loc[~df.function.str.lower().str.contains('date', na = False), 'date_function'] =  0 "
   ]
  },
  {
   "cell_type": "code",
   "execution_count": 19,
   "metadata": {
    "scrolled": false
   },
   "outputs": [],
   "source": [
    "#Creating a binary column for whether or not \n",
    "#a watch has a day and a date function\n",
    "df.loc[df.function.str.lower().str.contains('day', na = False), 'day_date'] = 1\n",
    "df.loc[~df.function.str.lower().str.contains('day', na = False), 'day_date'] =  0 "
   ]
  },
  {
   "cell_type": "code",
   "execution_count": 20,
   "metadata": {
    "scrolled": false
   },
   "outputs": [],
   "source": [
    "#Creating a binary column for \n",
    "#whether or not watch glows in the dark\n",
    "df.loc[df.function.str.lower().str.contains('glowing', na = False), 'glowing'] = 1\n",
    "df.loc[~df.function.str.lower().str.contains('glowing', na = False), 'glowing'] =  0 "
   ]
  },
  {
   "cell_type": "code",
   "execution_count": 21,
   "metadata": {
    "scrolled": false
   },
   "outputs": [],
   "source": [
    "#Creating a binary column for \n",
    "#whether or not a watch is chronograph\n",
    "df.loc[df.function.str.lower().str.contains('chrono', na = False), 'chrono'] = 1\n",
    "df.loc[~df.function.str.lower().str.contains('chrono', na = False), 'chrono'] =  0 "
   ]
  },
  {
   "cell_type": "code",
   "execution_count": 22,
   "metadata": {
    "scrolled": false
   },
   "outputs": [
    {
     "data": {
      "text/html": [
       "<div>\n",
       "<style scoped>\n",
       "    .dataframe tbody tr th:only-of-type {\n",
       "        vertical-align: middle;\n",
       "    }\n",
       "\n",
       "    .dataframe tbody tr th {\n",
       "        vertical-align: top;\n",
       "    }\n",
       "\n",
       "    .dataframe thead th {\n",
       "        text-align: right;\n",
       "    }\n",
       "</style>\n",
       "<table border=\"1\" class=\"dataframe\">\n",
       "  <thead>\n",
       "    <tr style=\"text-align: right;\">\n",
       "      <th></th>\n",
       "      <th>name</th>\n",
       "      <th>price</th>\n",
       "      <th>strap_material</th>\n",
       "      <th>colour</th>\n",
       "      <th>function</th>\n",
       "      <th>date_scraped</th>\n",
       "      <th>water_resistant</th>\n",
       "      <th>date_function</th>\n",
       "      <th>day_date</th>\n",
       "      <th>glowing</th>\n",
       "      <th>chrono</th>\n",
       "    </tr>\n",
       "  </thead>\n",
       "  <tbody>\n",
       "    <tr>\n",
       "      <th>0</th>\n",
       "      <td>Sparklingot</td>\n",
       "      <td>95.0</td>\n",
       "      <td>Silicone</td>\n",
       "      <td>Transparent</td>\n",
       "      <td>Water-resistance</td>\n",
       "      <td>2021-01-24</td>\n",
       "      <td>1.0</td>\n",
       "      <td>0.0</td>\n",
       "      <td>0.0</td>\n",
       "      <td>0.0</td>\n",
       "      <td>0.0</td>\n",
       "    </tr>\n",
       "    <tr>\n",
       "      <th>1</th>\n",
       "      <td>#Opensummer</td>\n",
       "      <td>110.0</td>\n",
       "      <td>Silicone</td>\n",
       "      <td>Transparent</td>\n",
       "      <td>Water-resistance</td>\n",
       "      <td>2021-01-24</td>\n",
       "      <td>1.0</td>\n",
       "      <td>0.0</td>\n",
       "      <td>0.0</td>\n",
       "      <td>0.0</td>\n",
       "      <td>0.0</td>\n",
       "    </tr>\n",
       "    <tr>\n",
       "      <th>2</th>\n",
       "      <td>Sideral Blue</td>\n",
       "      <td>95.0</td>\n",
       "      <td>Silicone</td>\n",
       "      <td>Blue</td>\n",
       "      <td>Water-resistance</td>\n",
       "      <td>2021-01-24</td>\n",
       "      <td>1.0</td>\n",
       "      <td>0.0</td>\n",
       "      <td>0.0</td>\n",
       "      <td>0.0</td>\n",
       "      <td>0.0</td>\n",
       "    </tr>\n",
       "    <tr>\n",
       "      <th>3</th>\n",
       "      <td>Sideral Grey</td>\n",
       "      <td>130.0</td>\n",
       "      <td>Synthetic/Leather</td>\n",
       "      <td>Grey</td>\n",
       "      <td>Water-resistance</td>\n",
       "      <td>2021-01-24</td>\n",
       "      <td>1.0</td>\n",
       "      <td>0.0</td>\n",
       "      <td>0.0</td>\n",
       "      <td>0.0</td>\n",
       "      <td>0.0</td>\n",
       "    </tr>\n",
       "    <tr>\n",
       "      <th>4</th>\n",
       "      <td>Lost Moon</td>\n",
       "      <td>130.0</td>\n",
       "      <td>Synthetic/Leather</td>\n",
       "      <td>Black</td>\n",
       "      <td>Water-resistance</td>\n",
       "      <td>2021-01-24</td>\n",
       "      <td>1.0</td>\n",
       "      <td>0.0</td>\n",
       "      <td>0.0</td>\n",
       "      <td>0.0</td>\n",
       "      <td>0.0</td>\n",
       "    </tr>\n",
       "  </tbody>\n",
       "</table>\n",
       "</div>"
      ],
      "text/plain": [
       "           name  price     strap_material       colour          function  \\\n",
       "0   Sparklingot   95.0           Silicone  Transparent  Water-resistance   \n",
       "1   #Opensummer  110.0           Silicone  Transparent  Water-resistance   \n",
       "2  Sideral Blue   95.0           Silicone         Blue  Water-resistance   \n",
       "3  Sideral Grey  130.0  Synthetic/Leather         Grey  Water-resistance   \n",
       "4     Lost Moon  130.0  Synthetic/Leather        Black  Water-resistance   \n",
       "\n",
       "  date_scraped  water_resistant  date_function  day_date  glowing  chrono  \n",
       "0   2021-01-24              1.0            0.0       0.0      0.0     0.0  \n",
       "1   2021-01-24              1.0            0.0       0.0      0.0     0.0  \n",
       "2   2021-01-24              1.0            0.0       0.0      0.0     0.0  \n",
       "3   2021-01-24              1.0            0.0       0.0      0.0     0.0  \n",
       "4   2021-01-24              1.0            0.0       0.0      0.0     0.0  "
      ]
     },
     "execution_count": 22,
     "metadata": {},
     "output_type": "execute_result"
    }
   ],
   "source": [
    "#First five rows of the cleaned dataframe\n",
    "df.head()"
   ]
  },
  {
   "cell_type": "code",
   "execution_count": 23,
   "metadata": {
    "scrolled": false
   },
   "outputs": [
    {
     "data": {
      "text/plain": [
       "name                object\n",
       "price              float64\n",
       "strap_material      object\n",
       "colour              object\n",
       "function            object\n",
       "date_scraped        object\n",
       "water_resistant    float64\n",
       "date_function      float64\n",
       "day_date           float64\n",
       "glowing            float64\n",
       "chrono             float64\n",
       "dtype: object"
      ]
     },
     "execution_count": 23,
     "metadata": {},
     "output_type": "execute_result"
    }
   ],
   "source": [
    "#Checking the datatypes of the cleaned dataframe\n",
    "df.dtypes"
   ]
  },
  {
   "cell_type": "markdown",
   "metadata": {},
   "source": [
    "## Exploratory data analysis"
   ]
  },
  {
   "cell_type": "markdown",
   "metadata": {},
   "source": [
    "### ***What is the average price of the watches?***"
   ]
  },
  {
   "cell_type": "code",
   "execution_count": 24,
   "metadata": {
    "scrolled": false
   },
   "outputs": [
    {
     "name": "stdout",
     "output_type": "stream",
     "text": [
      "$132.81\n"
     ]
    }
   ],
   "source": [
    "avg_price = df.price.mean()\n",
    "rounded_avg_price = round(avg_price,2)\n",
    "print(f'${rounded_avg_price}')"
   ]
  },
  {
   "cell_type": "markdown",
   "metadata": {},
   "source": [
    "### ***What is the lowest price of the watches?***"
   ]
  },
  {
   "cell_type": "code",
   "execution_count": 25,
   "metadata": {
    "scrolled": false
   },
   "outputs": [
    {
     "name": "stdout",
     "output_type": "stream",
     "text": [
      "$85.0\n"
     ]
    }
   ],
   "source": [
    "min_price = df.price.min()\n",
    "print(f'${min_price}')"
   ]
  },
  {
   "cell_type": "markdown",
   "metadata": {},
   "source": [
    "### ***What is the highest price of the watches?***"
   ]
  },
  {
   "cell_type": "code",
   "execution_count": 26,
   "metadata": {
    "scrolled": false
   },
   "outputs": [
    {
     "name": "stdout",
     "output_type": "stream",
     "text": [
      "$285.0\n"
     ]
    }
   ],
   "source": [
    "max_price = df.price.max()\n",
    "print(f'${max_price}')"
   ]
  },
  {
   "cell_type": "markdown",
   "metadata": {},
   "source": [
    "### ***How many watches cost above the average price of the watches?***"
   ]
  },
  {
   "cell_type": "code",
   "execution_count": 27,
   "metadata": {
    "scrolled": false
   },
   "outputs": [
    {
     "data": {
      "text/plain": [
       "34"
      ]
     },
     "execution_count": 27,
     "metadata": {},
     "output_type": "execute_result"
    }
   ],
   "source": [
    "df[df.price > avg_price].shape[0]"
   ]
  },
  {
   "cell_type": "markdown",
   "metadata": {},
   "source": [
    "### ***How many watches cost below the average price of the watches?***"
   ]
  },
  {
   "cell_type": "code",
   "execution_count": 28,
   "metadata": {
    "scrolled": false
   },
   "outputs": [
    {
     "data": {
      "text/plain": [
       "30"
      ]
     },
     "execution_count": 28,
     "metadata": {},
     "output_type": "execute_result"
    }
   ],
   "source": [
    "df[df.price < avg_price].shape[0]"
   ]
  },
  {
   "cell_type": "markdown",
   "metadata": {},
   "source": [
    "### ***What is the distribution of prices?***"
   ]
  },
  {
   "cell_type": "code",
   "execution_count": 29,
   "metadata": {
    "scrolled": false
   },
   "outputs": [
    {
     "data": {
      "image/png": "[encoded data removed]",
      "text/plain": [
       "<Figure size 432x288 with 1 Axes>"
      ]
     },
     "metadata": {
      "needs_background": "light"
     },
     "output_type": "display_data"
    }
   ],
   "source": [
    "fig, ax = plt.subplots()\n",
    "price_bins = [i for i in range(0, int(max_price) + 40 , 40)]\n",
    "ax.hist(df.price, bins = price_bins)\n",
    "ax.set_xlabel('Price')\n",
    "ax.set_ylabel('Number of watches')\n",
    "ax.set_xticks(price_bins)\n",
    "\n",
    "formatter = ticker.FormatStrFormatter('$%1.0f')\n",
    "ax.xaxis.set_major_formatter(formatter)\n",
    "\n",
    "fig.suptitle('Distribution of prices', fontsize = 15, fontweight = 'bold')\n",
    "plt.show()"
   ]
  },
  {
   "cell_type": "markdown",
   "metadata": {},
   "source": [
    "### ***What are the five most expensive and the cheapest watches?***"
   ]
  },
  {
   "cell_type": "code",
   "execution_count": 30,
   "metadata": {
    "scrolled": false
   },
   "outputs": [
    {
     "data": {
      "image/png": "[encoded data removed]",
      "text/plain": [
       "<Figure size 576x720 with 2 Axes>"
      ]
     },
     "metadata": {
      "needs_background": "light"
     },
     "output_type": "display_data"
    }
   ],
   "source": [
    "#Dataframe of the watches sorted by price\n",
    "sorted_prices = df.sort_values('price', ascending = True)\n",
    "\n",
    "#5 most expensive watches\n",
    "top_5 = sorted_prices.head()\n",
    "\n",
    "#5 cheapest watches\n",
    "bottom_5 = sorted_prices.tail()\n",
    "\n",
    "fig, (ax1, ax2) = plt.subplots(2, 1, sharey = True, figsize = (8,10))\n",
    "sns.barplot(x = 'name', y = 'price', data = top_5, color = 'grey', ax = ax1)\n",
    "sns.barplot(x = 'name', y = 'price', data = bottom_5, color = 'grey', ax = ax2)\n",
    "\n",
    "#ax1.set_xlabel('Watch name')\n",
    "#ax2.set_xlabel('')\n",
    "ax1.set_title('Cheapest watches')\n",
    "ax1.set_ylabel('Price')\n",
    "ax1.set_xlabel('')\n",
    "\n",
    "ax2.set_ylabel('Price')\n",
    "ax2.set_xlabel('Watch name') \n",
    "ax2.set_title('Expensive watches')\n",
    "\n",
    "\n",
    "formatter = ticker.FormatStrFormatter('$%1.0f')\n",
    "ax1.yaxis.set_major_formatter(formatter)\n",
    "\n",
    "fig.suptitle('Comparison of the 5 cheapest and 5 most expensive watches', fontsize = 15, fontweight = 'bold')\n",
    "\n",
    "plt.show()"
   ]
  },
  {
   "cell_type": "markdown",
   "metadata": {},
   "source": [
    "#### Information about the cheapest and the most expensive watches"
   ]
  },
  {
   "cell_type": "code",
   "execution_count": 31,
   "metadata": {
    "scrolled": false
   },
   "outputs": [
    {
     "data": {
      "text/html": [
       "<div>\n",
       "<style scoped>\n",
       "    .dataframe tbody tr th:only-of-type {\n",
       "        vertical-align: middle;\n",
       "    }\n",
       "\n",
       "    .dataframe tbody tr th {\n",
       "        vertical-align: top;\n",
       "    }\n",
       "\n",
       "    .dataframe thead th {\n",
       "        text-align: right;\n",
       "    }\n",
       "</style>\n",
       "<table border=\"1\" class=\"dataframe\">\n",
       "  <thead>\n",
       "    <tr style=\"text-align: right;\">\n",
       "      <th></th>\n",
       "      <th>name</th>\n",
       "      <th>price</th>\n",
       "      <th>strap_material</th>\n",
       "      <th>colour</th>\n",
       "      <th>function</th>\n",
       "    </tr>\n",
       "  </thead>\n",
       "  <tbody>\n",
       "    <tr>\n",
       "      <th>58</th>\n",
       "      <td>Fairy Candy</td>\n",
       "      <td>85.0</td>\n",
       "      <td>Silicone</td>\n",
       "      <td>Pink</td>\n",
       "      <td>Water-resistance</td>\n",
       "    </tr>\n",
       "    <tr>\n",
       "      <th>59</th>\n",
       "      <td>Fairy Frosty</td>\n",
       "      <td>85.0</td>\n",
       "      <td>Silicone</td>\n",
       "      <td>Blue</td>\n",
       "      <td>Water-resistance</td>\n",
       "    </tr>\n",
       "    <tr>\n",
       "      <th>60</th>\n",
       "      <td>Fairy Cherry</td>\n",
       "      <td>85.0</td>\n",
       "      <td>Silicone</td>\n",
       "      <td>Pink</td>\n",
       "      <td>Water-resistance</td>\n",
       "    </tr>\n",
       "    <tr>\n",
       "      <th>63</th>\n",
       "      <td>Crazy Drive</td>\n",
       "      <td>285.0</td>\n",
       "      <td>St. Steel Adjustable</td>\n",
       "      <td>Grey</td>\n",
       "      <td>Glowing,Water-resistance,Chrono,Date</td>\n",
       "    </tr>\n",
       "  </tbody>\n",
       "</table>\n",
       "</div>"
      ],
      "text/plain": [
       "            name  price        strap_material colour  \\\n",
       "58   Fairy Candy   85.0              Silicone   Pink   \n",
       "59  Fairy Frosty   85.0              Silicone   Blue   \n",
       "60  Fairy Cherry   85.0              Silicone   Pink   \n",
       "63   Crazy Drive  285.0  St. Steel Adjustable   Grey   \n",
       "\n",
       "                                function  \n",
       "58                      Water-resistance  \n",
       "59                      Water-resistance  \n",
       "60                      Water-resistance  \n",
       "63  Glowing,Water-resistance,Chrono,Date  "
      ]
     },
     "execution_count": 31,
     "metadata": {},
     "output_type": "execute_result"
    }
   ],
   "source": [
    "df.loc[(df.name.str.lower().str.contains('fairy')) | (df.price == 285), 'name': 'function' ]"
   ]
  },
  {
   "cell_type": "markdown",
   "metadata": {},
   "source": [
    "The Crazy Drive watch has more functions than the Fairy watches. This shows that there may be a relationship between the functions available and the price of the watch. "
   ]
  },
  {
   "cell_type": "markdown",
   "metadata": {},
   "source": [
    "### ***Do different types of strap materials have different prices?***"
   ]
  },
  {
   "cell_type": "code",
   "execution_count": 32,
   "metadata": {
    "scrolled": false
   },
   "outputs": [
    {
     "data": {
      "image/png": "[encoded data removed]",
      "text/plain": [
       "<Figure size 1080x360 with 1 Axes>"
      ]
     },
     "metadata": {
      "needs_background": "light"
     },
     "output_type": "display_data"
    }
   ],
   "source": [
    "strap_mat_list = df.strap_material.value_counts().head(2).index.to_list()\n",
    "strap_df  = df.loc[df.strap_material.isin(strap_mat_list)]\n",
    "fig, ax = plt.subplots(figsize = (15,5))\n",
    "sns.boxplot(x = 'strap_material', y = 'price',  data = strap_df)\n",
    "formatter = ticker.FormatStrFormatter('$%1.0f')\n",
    "ax.yaxis.set_major_formatter(formatter)\n",
    "ax.set_xlabel('Strap material')\n",
    "ax.set_ylim(0,300)\n",
    "plt.show()"
   ]
  },
  {
   "cell_type": "markdown",
   "metadata": {},
   "source": [
    "In the chart above, only the Silicone and Bio-sourced materials are used for the boxplots because they have ten or more products. Watches with bio-sourced strap material have the smallest range of prices. However, there are only 14 watches with this strap material, compared to the 35 silicone strap material watches."
   ]
  },
  {
   "cell_type": "markdown",
   "metadata": {},
   "source": [
    "### ***How many different colours are available?***"
   ]
  },
  {
   "cell_type": "code",
   "execution_count": 33,
   "metadata": {
    "scrolled": false
   },
   "outputs": [
    {
     "data": {
      "image/png": "[encoded data removed]",
      "text/plain": [
       "<Figure size 720x360 with 1 Axes>"
      ]
     },
     "metadata": {
      "needs_background": "light"
     },
     "output_type": "display_data"
    }
   ],
   "source": [
    "colours_group = df.groupby('colour', as_index = False)[['name']].count()\n",
    "colours_group.rename(columns = {'name': 'total'}, inplace = True)\n",
    "colours_group.sort_values('total', ascending = False, inplace = True)\n",
    "\n",
    "colours = colours_group.colour.str.lower().unique().tolist()\n",
    "\n",
    "fig, ax = plt.subplots(figsize = (10,5))\n",
    "sns.barplot(x= 'colour', y = 'total', data = colours_group, color = 'grey', ax = ax)\n",
    "ax.set_ylabel('Number of watches')\n",
    "ax.set_xlabel('Colour')\n",
    "fig.suptitle('Number of watches by colour', fontsize = 15, fontweight = 'bold')\n",
    "yticks = [i for i in range(1,21)]\n",
    "ax.set_yticks(yticks)\n",
    "plt.show()"
   ]
  },
  {
   "cell_type": "markdown",
   "metadata": {},
   "source": [
    "### ***How many watches have each functions?***"
   ]
  },
  {
   "cell_type": "code",
   "execution_count": 34,
   "metadata": {
    "scrolled": false
   },
   "outputs": [
    {
     "data": {
      "image/png": "[encoded data removed]",
      "text/plain": [
       "<Figure size 648x432 with 1 Axes>"
      ]
     },
     "metadata": {
      "needs_background": "light"
     },
     "output_type": "display_data"
    }
   ],
   "source": [
    "features_columns = ['water_resistant', 'date_function', 'day_date', 'glowing', 'chrono']\n",
    "features_count = df[features_columns].sum()\n",
    "features_count = pd.DataFrame(features_count)\n",
    "features_count.reset_index(inplace = True)\n",
    "features_count.rename(columns = {'index': 'feature', 0:'num_watches'}, inplace = True)\n",
    "\n",
    "mapping = {'water_resistant':'Water resistant', 'date_function': 'Date', 'day_date':'Day and date', \n",
    " 'glowing':'Glowing', 'chrono':'Chrono'}\n",
    "\n",
    "features_count['feature'] = features_count.feature.map(mapping)\n",
    "\n",
    "fig, ax = plt.subplots(figsize = (9,6))\n",
    "sns.barplot(x = features_count.feature, y = features_count.num_watches, data = features_count, color = 'grey', ax = ax)\n",
    "ax.set_ylabel('Number of watches')\n",
    "ax.set_xlabel('Feature')\n",
    "fig.suptitle('Different functions of the watches', fontsize = 15, fontweight = 'bold')\n",
    "plt.show()"
   ]
  },
  {
   "cell_type": "markdown",
   "metadata": {},
   "source": [
    "### ***If I wanted to buy a watch with the day and the date, how much would it cost on average?***"
   ]
  },
  {
   "cell_type": "code",
   "execution_count": 35,
   "metadata": {
    "scrolled": false
   },
   "outputs": [
    {
     "name": "stdout",
     "output_type": "stream",
     "text": [
      "$105.0\n"
     ]
    }
   ],
   "source": [
    "mean_price = df.loc[df.day_date == 1, 'price'].mean()\n",
    "print(f'${mean_price}')"
   ]
  },
  {
   "cell_type": "markdown",
   "metadata": {},
   "source": [
    "### ***Which black, day and date watches can I buy?***"
   ]
  },
  {
   "cell_type": "code",
   "execution_count": 36,
   "metadata": {
    "scrolled": true
   },
   "outputs": [
    {
     "data": {
      "text/html": [
       "<div>\n",
       "<style scoped>\n",
       "    .dataframe tbody tr th:only-of-type {\n",
       "        vertical-align: middle;\n",
       "    }\n",
       "\n",
       "    .dataframe tbody tr th {\n",
       "        vertical-align: top;\n",
       "    }\n",
       "\n",
       "    .dataframe thead th {\n",
       "        text-align: right;\n",
       "    }\n",
       "</style>\n",
       "<table border=\"1\" class=\"dataframe\">\n",
       "  <thead>\n",
       "    <tr style=\"text-align: right;\">\n",
       "      <th></th>\n",
       "      <th>name</th>\n",
       "      <th>price</th>\n",
       "      <th>colour</th>\n",
       "    </tr>\n",
       "  </thead>\n",
       "  <tbody>\n",
       "    <tr>\n",
       "      <th>14</th>\n",
       "      <td>Neuzeit</td>\n",
       "      <td>105.0</td>\n",
       "      <td>Black</td>\n",
       "    </tr>\n",
       "    <tr>\n",
       "      <th>28</th>\n",
       "      <td>Black Rails</td>\n",
       "      <td>105.0</td>\n",
       "      <td>Black</td>\n",
       "    </tr>\n",
       "  </tbody>\n",
       "</table>\n",
       "</div>"
      ],
      "text/plain": [
       "           name  price colour\n",
       "14      Neuzeit  105.0  Black\n",
       "28  Black Rails  105.0  Black"
      ]
     },
     "execution_count": 36,
     "metadata": {},
     "output_type": "execute_result"
    }
   ],
   "source": [
    "df.loc[(df.day_date == 1) & (df.colour == 'Black'), ['name','price', 'colour']]"
   ]
  }
 ],
 "metadata": {
  "authors": [
   {
    "name": "Nadine Mukondiwa"
   }
  ],
  "kernelspec": {
   "display_name": "Python 3",
   "language": "python",
   "name": "python3"
  },
  "language_info": {
   "codemirror_mode": {
    "name": "ipython",
    "version": 3
   },
   "file_extension": ".py",
   "mimetype": "text/x-python",
   "name": "python",
   "nbconvert_exporter": "python",
   "pygments_lexer": "ipython3",
   "version": "3.8.3"
  }
 },
 "nbformat": 4,
 "nbformat_minor": 4
}
